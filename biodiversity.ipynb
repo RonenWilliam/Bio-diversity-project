{
 "cells": [
  {
   "cell_type": "markdown",
   "metadata": {},
   "source": [
    "## Introduction\n",
    "\n",
    "The goal of this project is to analyze the data from the National Parks Service about the various species observed in different national park locations and investigate if there are any patterns or themes to the types of species that become endangered.\n",
    "\n",
    "This Project will analyze, clean up and plot data to answer the posed questions in a meaningful way. \n",
    "\n",
    "Questions this project will answer:\n",
    "1. What is the distribution of conservation status for animals?\n",
    "2. Are certain types of species more likely to be endangered?\n",
    "3. Are the differences between species and their conservation status significant\n",
    "4. Which species were spotted the most at each park?\n",
    "\n",
    "Data sources:\n",
    "‘Observations.csv’ and ‘Species_info.csv’ as provided by codecademy.com"
   ]
  },
  {
   "cell_type": "markdown",
   "metadata": {},
   "source": [
    "## Scoping\n",
    "\n",
    "To create a structured project, we will use the scoping method. The project contains 4 sections. 1. Project goals will define the the objectives. 2. Data for this project is already provided and there is no extra added data from other sources. 3. Analysis will use different methods to answer the questions. 4. Evaluation to better understand the findings and to form a conclusion. \n",
    "\n",
    "Project goals\n",
    "\n",
    "The goal of this project is find out if there are any patterns or themes to the types of species that become endangered. Therefore it’s important to to understand the characteristics of the different species, their conservation status and their relationship to the different parks. \n",
    "\n",
    "1. What is the distribution of conservation_status for animals?\n",
    "2. Are certain types of species more likely to be endangered?\n",
    "3. Are the differences between species and their conservation status significant\n",
    "4. Which species were spotted the most at each park?\n",
    "\n",
    "DATA\n",
    "\n",
    "This project came with two data sets. ‘Observations.csv’ provides information about how many times an animal is found in a specific park. ‘Species_info.csv’ provides information about the kind of species of animal, their scientific name, common name and conservation status. \n",
    "\n",
    "Analysis \n",
    "\n",
    "Descriptive statistics and data visualization techniques will be employed to understand the data better. Statistical inference will also be used to test if the observed values are statistically significant. Key metrics:\n",
    "1. Distribution.\n",
    "2. Count.\n",
    "3. relationship between species\n",
    "4. conservation status of species\n",
    "5. obersvation of species in parks\n",
    "\n",
    "Evaluation\n",
    "\n",
    "Revisit the goals and check if our analysis answers the questions. Reflection on results and what has been learned. Are any questions unanswered or are there any limitations to the data or our methods. "
   ]
  },
  {
   "cell_type": "code",
   "execution_count": null,
   "metadata": {},
   "outputs": [],
   "source": []
  }
 ],
 "metadata": {
  "kernelspec": {
   "display_name": "Python 3 (ipykernel)",
   "language": "python",
   "name": "python3"
  },
  "language_info": {
   "codemirror_mode": {
    "name": "ipython",
    "version": 3
   },
   "file_extension": ".py",
   "mimetype": "text/x-python",
   "name": "python",
   "nbconvert_exporter": "python",
   "pygments_lexer": "ipython3",
   "version": "3.11.4"
  }
 },
 "nbformat": 4,
 "nbformat_minor": 4
}
